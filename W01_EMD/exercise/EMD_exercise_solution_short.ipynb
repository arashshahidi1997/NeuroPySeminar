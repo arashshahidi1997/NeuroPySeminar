{
 "cells": [
  {
   "cell_type": "markdown",
   "metadata": {},
   "source": [
    "# Create Environment"
   ]
  },
  {
   "cell_type": "code",
   "execution_count": null,
   "metadata": {},
   "outputs": [],
   "source": [
    "import numpy as np\n",
    "import matplotlib.pyplot as plt\n",
    "import emd"
   ]
  },
  {
   "cell_type": "code",
   "execution_count": null,
   "metadata": {},
   "outputs": [],
   "source": [
    "# run tests\n",
    "emd.support.run_tests()"
   ]
  },
  {
   "cell_type": "markdown",
   "metadata": {},
   "source": [
    "# 1: Demixing Nonstationary Coupled Oscillators\n",
    "\n",
    "## EMD\n",
    "- Decompose signal into IMFs\n",
    "- Compute the instantaneous phase, frequency, and amplitude of IMFs\n",
    "- plot instantaneous frequency and amplitude of fast oscillation against phase of slow oscillation"
   ]
  },
  {
   "cell_type": "code",
   "execution_count": null,
   "metadata": {
    "vscode": {
     "languageId": "plaintext"
    }
   },
   "outputs": [],
   "source": [
    "%matplotlib inline\n",
    "\n",
    "# a) generate oscillator with two frequencies\n",
    "T = 10 # duration in seconds\n",
    "fs = 1000 # sampling frequency in Hz\n",
    "dt = 1/fs\n",
    "t = np.arange(0, T, dt) # time vector\n",
    "if_slow = 5 + 2*np.sin(2*np.pi*0.5*t) # frequency 1 that oscillates with 0.5 Hz around 5 Hz with amplitude 2 Hz\n",
    "ip_slow = 2 * np.pi * np.cumsum(if_slow) * dt # ip_slow = 2*pi int(if_slow dt)\n",
    "amp_slow = 5\n",
    "ip_slow = np.mod(ip_slow, 2*np.pi) # wrap phase [0, 2*pi]\n",
    "slow_sig = amp_slow * np.cos(ip_slow)\n",
    "\n",
    "# amp_fast and if_fast are modulate by ip_slow, at peaks of ip_slow\n",
    "amp_fast = 2 + 2*np.sin(ip_slow + np.pi/2)\n",
    "if_fast = 25 + 0.5*np.sin(ip_slow)\n",
    "ip_fast = 2 * np.pi * np.cumsum(if_fast) * dt\n",
    "fast_sig = amp_fast * np.cos(ip_fast)\n",
    "\n",
    "# combine slow and fast oscillations\n",
    "sig = slow_sig + fast_sig\n",
    "imfs = np.array([fast_sig, slow_sig]).T\n",
    "\n",
    "fig, ax = plt.subplots(figsize=(15, 10))\n",
    "emd.plotting.plot_imfs(imfs, t, fig=fig, ax=ax)\n",
    "ax.set_title('Ground Truth IMFs')\n",
    "plt.show()\n",
    "\n",
    "# b) EMD\n",
    "# get IMFs\n",
    "sig_imfs = emd.sift.sift(sig)\n",
    "\n",
    "# plot imfs\n",
    "fig, ax = plt.subplots(figsize=(15, 10))\n",
    "emd.plotting.plot_imfs(sig_imfs, t, fig=fig, ax=ax)\n",
    "ax.set_title('IMFs from EMD')\n",
    "plt.show()\n",
    "\n",
    "# c) Hilbert Transform\n",
    "# get instantaneous phase, frequency, and amplitude via hilbert transform\n",
    "IP, IF, IA = emd.sift.frequency_transform(sig_imfs, fs, 'hilbert')\n",
    "\n",
    "# get hilert-huang transform\n",
    "f, hht = emd.spectra.hilberthuang(IF, IA, edges=np.arange(1, 30, 0.5), sample_rate=fs, sum_time=False)\n",
    "\n",
    "# plot hht\n",
    "fig, ax = plt.subplots()\n",
    "emd.plotting.plot_hilberthuang(hht, t, f, ax=ax, cmap='viridis')\n",
    "plt.show()\n",
    "\n",
    "# d) Modulation By Slow Phase\n",
    "# plot instantaneous frequency and amplitude of fast oscillation as a function of the phase of the slow oscillation\n",
    "fig = plt.figure()\n",
    "plt.subplot(2,1,1)\n",
    "plt.scatter(ip_slow, if_fast)\n",
    "plt.ylabel('Instantaneous frequency (Hz)')\n",
    "plt.subplot(2,1,2)\n",
    "plt.scatter(ip_slow, amp_fast)\n",
    "plt.ylabel('Amplitude')\n",
    "plt.xlabel('Phase of slow oscillation')\n",
    "fig.suptitle('Modulation of fast oscillation by slow oscillation')\n",
    "plt.show()"
   ]
  }
 ],
 "metadata": {
  "language_info": {
   "name": "python"
  }
 },
 "nbformat": 4,
 "nbformat_minor": 2
}
