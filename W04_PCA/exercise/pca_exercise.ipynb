{
 "cells": [
  {
   "cell_type": "markdown",
   "metadata": {},
   "source": [
    "# Imports"
   ]
  },
  {
   "cell_type": "code",
   "execution_count": null,
   "metadata": {},
   "outputs": [],
   "source": [
    "# !pip install scikit-learn"
   ]
  },
  {
   "cell_type": "code",
   "execution_count": 7,
   "metadata": {},
   "outputs": [],
   "source": [
    "import numpy as np\n",
    "import pandas as pd\n",
    "import matplotlib.pyplot as plt\n",
    "from sklearn.decomposition import PCA"
   ]
  },
  {
   "cell_type": "markdown",
   "metadata": {},
   "source": [
    "# Exercise 1: PCA plots\n",
    "Apply PCA on a dataset of your choice and plot the following:\n",
    "\n",
    "- scree plot (eigenvalues)\n",
    "\n",
    "- eigenvectors (loadings)\n",
    "\n",
    "- seaborn PairGrid, first 5 PCs\n",
    "\n",
    "- 3d plot of first 3 PCs\n"
   ]
  },
  {
   "cell_type": "markdown",
   "metadata": {},
   "source": [
    "# Exercise 2: Reverse Engineering\n",
    "- PC: create multivariate (3 dimensions) well separated Gaussian bumps with 100 points per cluster. (300, 3) matrix\n",
    "- Unembedding: pad with zeros to get a (300, 10) matrix, Z, such that the last 7 columns are all zero\n",
    "- Mixing Matrix: create a (10x10) mixing matrix, R - matrix of eigenvectors: use the random_son to generate an arbitrary rotation matrix in 10 dimensions\n",
    "- Apply the mixing matrix to the unembedded datapoints to get the (300, 10) design matrix: X = R @ Z\n",
    "- apply PCA and reduce dimensionality to 3\n",
    "- apply KMeans clustering to label the gaussian bumps"
   ]
  },
  {
   "cell_type": "code",
   "execution_count": 12,
   "metadata": {},
   "outputs": [],
   "source": [
    "def random_son(n):\n",
    "    \"\"\"\n",
    "    Generate a random element of the special orthogonal group SO(n).\n",
    "\n",
    "    Parameters:\n",
    "    n (int): The dimension of the SO(n) group.\n",
    "\n",
    "    Returns:\n",
    "    numpy.ndarray: An n x n orthogonal matrix with determinant +1.\n",
    "    \"\"\"\n",
    "    # Generate a random n x n matrix with entries drawn from a normal distribution\n",
    "    random_matrix = np.random.randn(n, n)\n",
    "    \n",
    "    # Perform QR decomposition\n",
    "    q, r = np.linalg.qr(random_matrix)\n",
    "    \n",
    "    # Ensure the determinant of Q is +1 (correct for the sign of R's diagonal entries)\n",
    "    d = np.diag(r)\n",
    "    ph = np.sign(d)\n",
    "    q *= ph\n",
    "    \n",
    "    # Ensure det(Q) = 1 (special orthogonal matrix)\n",
    "    if np.linalg.det(q) < 0:\n",
    "        q[:, 0] *= -1\n",
    "\n",
    "    return q"
   ]
  },
  {
   "cell_type": "code",
   "execution_count": 11,
   "metadata": {},
   "outputs": [
    {
     "name": "stdout",
     "output_type": "stream",
     "text": [
      "Random SO(3) element:\n",
      "Orthogonality check (should be close to identity):\n",
      "Determinant (should be 1):\n",
      "0.9999999999999992\n"
     ]
    },
    {
     "data": {
      "image/png": "[encoded data removed]",
      "text/plain": [
       "<Figure size 640x480 with 1 Axes>"
      ]
     },
     "metadata": {},
     "output_type": "display_data"
    },
    {
     "data": {
      "image/png": "[encoded data removed]",
      "text/plain": [
       "<Figure size 640x480 with 1 Axes>"
      ]
     },
     "metadata": {},
     "output_type": "display_data"
    }
   ],
   "source": [
    "n = 10  # Dimension of the SO(n) group\n",
    "random_element = random_son(10)\n",
    "print(\"Random SO(3) element:\")\n",
    "plt.figure()\n",
    "plt.imshow(random_element)\n",
    "\n",
    "# Verify orthogonality\n",
    "print(\"Orthogonality check (should be close to identity):\")\n",
    "plt.figure()\n",
    "plt.imshow(np.dot(random_element.T, random_element))\n",
    "\n",
    "# Verify determinant\n",
    "print(\"Determinant (should be 1):\")\n",
    "print(np.linalg.det(random_element))"
   ]
  },
  {
   "cell_type": "code",
   "execution_count": null,
   "metadata": {},
   "outputs": [],
   "source": []
  }
 ],
 "metadata": {
  "kernelspec": {
   "display_name": "comp",
   "language": "python",
   "name": "python3"
  },
  "language_info": {
   "codemirror_mode": {
    "name": "ipython",
    "version": 3
   },
   "file_extension": ".py",
   "mimetype": "text/x-python",
   "name": "python",
   "nbconvert_exporter": "python",
   "pygments_lexer": "ipython3",
   "version": "3.10.15"
  }
 },
 "nbformat": 4,
 "nbformat_minor": 2
}
