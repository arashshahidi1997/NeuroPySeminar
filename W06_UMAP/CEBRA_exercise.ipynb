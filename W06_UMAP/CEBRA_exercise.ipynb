{
 "cells": [
  {
   "cell_type": "markdown",
   "id": "177bc0ab-5eb1-4a75-bace-408e0cf90e30",
   "metadata": {},
   "source": [
    "# Tutorial based on demo created my the Mathis lab on how to use and reproduce paper figures with CEBRA"
   ]
  },
  {
   "cell_type": "markdown",
   "id": "36b6e35d-d303-49ff-812b-983c44688b96",
   "metadata": {},
   "source": [
    "## Install the required libraries before running this script."
   ]
  },
  {
   "cell_type": "code",
   "execution_count": null,
   "id": "b058294a-eb62-4d1a-94bf-d0cd3163839f",
   "metadata": {},
   "outputs": [],
   "source": [
    "!pip install --pre 'cebra[dev,demos]'"
   ]
  },
  {
   "cell_type": "markdown",
   "id": "65e42217-1ef7-49a3-b0e6-65a8a4f62b44",
   "metadata": {},
   "source": [
    "## Import all necessary libraries for data processing, visualization, and modeling."
   ]
  },
  {
   "cell_type": "code",
   "execution_count": null,
   "id": "8d76e991-77f1-4847-b8c9-07ca5aa0bcbe",
   "metadata": {},
   "outputs": [],
   "source": [
    "import sys\n",
    "\n",
    "import numpy as np\n",
    "import pandas as pd\n",
    "import matplotlib.pyplot as plt\n",
    "import joblib as jl\n",
    "import cebra.datasets\n",
    "from cebra import CEBRA\n",
    "\n",
    "from matplotlib.collections import LineCollection\n",
    "import pandas as pd"
   ]
  },
  {
   "cell_type": "markdown",
   "id": "098c6a37-58b5-4897-bca9-c3296137707e",
   "metadata": {},
   "source": [
    "## Load the hippocampus dataset using the CEBRA library."
   ]
  },
  {
   "cell_type": "code",
   "execution_count": null,
   "id": "45899f74-0bc6-4d13-87cb-a8e04304e299",
   "metadata": {},
   "outputs": [],
   "source": [
    "hippocampus_pos = cebra.datasets.init('rat-hippocampus-single-achilles')"
   ]
  },
  {
   "cell_type": "markdown",
   "id": "8ffdad76-a50b-4c9d-8c49-3c742e02d295",
   "metadata": {},
   "source": [
    "## Task: use plt.subplot() to create two subplots"
   ]
  },
  {
   "cell_type": "markdown",
   "id": "b68423a2-7784-440b-a916-29008494a526",
   "metadata": {},
   "source": [
    "### 1. A plot that shows neuronal activity over time.\n",
    "### 2. A plot that shows the position over time."
   ]
  },
  {
   "cell_type": "code",
   "execution_count": null,
   "id": "26a8c50f-ea27-4543-8da1-cf46e1e71125",
   "metadata": {},
   "outputs": [],
   "source": [
    "# Hint 1: For the neuronal activity plot, use ax.imshow(hippocampus_pos.neural.numpy()[:1000].T, aspect='auto', cmap='gray_r').\n",
    "# Hint 2: For the position plot, use ax.scatter(np.arange(1000), hippocampus_pos.continuous_index[:1000, 0], c='gray', s=1).\n",
    "# \n",
    "# START YOUR CODE BELOW\n",
    "\n",
    "# fig = plt.figure(figsize=(9,3), dpi=150)\n",
    "# plt.subplots_adjust(wspace=0.3)\n",
    "# ax = plt.subplot(121)\n",
    "\n",
    "# ax2 = plt.subplot(122)"
   ]
  },
  {
   "cell_type": "markdown",
   "id": "f271b804-1e0d-4d67-b6f5-f39389e8eabb",
   "metadata": {},
   "source": [
    "## Task: Train a CEBRA model to learn embeddings from the hippocampus dataset and visualize it"
   ]
  },
  {
   "cell_type": "code",
   "execution_count": null,
   "id": "a936ff7a-53b8-4b6a-b61f-2bd55bfad889",
   "metadata": {},
   "outputs": [],
   "source": [
    "# START YOUR CODE BELOW\n",
    "max_iterations = 10000\n",
    "output_dimension = 32\n",
    "\n",
    "cebra_posdir3_model = CEBRA(model_architecture='offset10-model',\n",
    "                        batch_size=512,\n",
    "                        learning_rate=3e-4,\n",
    "                        temperature=1,\n",
    "                        output_dimension=3,\n",
    "                        max_iterations=max_iterations,\n",
    "                        distance='cosine',\n",
    "                        conditional='time_delta',\n",
    "                        device='cuda_if_available',\n",
    "                        verbose=True,\n",
    "                        time_offsets=10)\n",
    "\n",
    "cebra_posdir3_model.fit(hippocampus_pos.neural, hippocampus_pos.continuous_index.numpy())\n",
    "cebra_posdir3 = cebra_posdir3_model.transform(hippocampus_pos.neural)\n",
    "\n",
    "# Hint: Use cebra.integrations.plotly.plot_embedding_interactive on cebra_posdir3\n",
    "import cebra.integrations.plotly\n",
    "# fig = cebra.integrations.plotly.plot_embedding_interactive(YOUR VARIABLE, embedding_labels = HIPPOCAMPUS LABELS, \n",
    "                                                           # title = \"CEBRA-Behavior\", cmap = \"rainbow\")\n",
    "# fig.show() "
   ]
  },
  {
   "cell_type": "markdown",
   "id": "3e7291f4-9564-4d1f-b50d-5a4be39e5229",
   "metadata": {},
   "source": [
    "## Task: Train a control model with shuffled neural data."
   ]
  },
  {
   "cell_type": "code",
   "execution_count": null,
   "id": "25d0ae0d-8d46-49af-b5f2-2e2b8a214491",
   "metadata": {},
   "outputs": [],
   "source": [
    "cebra_posdir_shuffled3_model = CEBRA(model_architecture='offset10-model',\n",
    "                        batch_size=512,\n",
    "                        learning_rate=3e-4,\n",
    "                        temperature=1,\n",
    "                        output_dimension=3,\n",
    "                        max_iterations=max_iterations,\n",
    "                        distance='cosine',\n",
    "                        conditional='time_delta',\n",
    "                        device='cuda_if_available',\n",
    "                        verbose=True,\n",
    "                        time_offsets=10)\n",
    "\n",
    "# Hint: use np.random.permutation on hippocampus_pos.continuous_index.numpy and then fit the model by using the neural data and the shuffled \n",
    "# posdir\n",
    "hippocampus_shuffled_posdir = \n",
    "cebra_posdir_shuffled3_model.fit(..., ...)\n",
    "cebra_posdir_shuffled3 = cebra_posdir_shuffled3_model.transform(...)"
   ]
  },
  {
   "cell_type": "markdown",
   "id": "d5e2fb21-b57f-44dd-97c1-72421f7aec1a",
   "metadata": {},
   "source": [
    "## Task: Train a model that uses time without the behavior information.'"
   ]
  },
  {
   "cell_type": "code",
   "execution_count": null,
   "id": "9e953b20-bdac-47d6-ab0a-72bdce870bf9",
   "metadata": {},
   "outputs": [],
   "source": [
    "cebra_time3_model = CEBRA(model_architecture='offset10-model',\n",
    "                        batch_size=512,\n",
    "                        learning_rate=3e-4,\n",
    "                        temperature=1.12,\n",
    "                        output_dimension=3,\n",
    "                        max_iterations=max_iterations,\n",
    "                        distance='cosine',\n",
    "                        conditional='time',\n",
    "                        device='cuda_if_available',\n",
    "                        verbose=True,\n",
    "                        time_offsets=10)\n",
    "\n",
    "# Hint: fit the model ONLY to the neural data\n",
    "cebra_time3_model.fit(...)\n",
    "cebra_time3 = cebra_time3_model.transform(...)"
   ]
  },
  {
   "cell_type": "markdown",
   "id": "80c49933-d1a5-4e28-b7b9-a970eb75d2a7",
   "metadata": {},
   "source": [
    "## Task: Train a model that uses both time and positional information."
   ]
  },
  {
   "cell_type": "code",
   "execution_count": null,
   "id": "a0020409-72e4-43e2-929c-74640e38041d",
   "metadata": {},
   "outputs": [],
   "source": [
    "cebra_hybrid_model = CEBRA(model_architecture='offset10-model',\n",
    "                        batch_size=512,\n",
    "                        learning_rate=3e-4,\n",
    "                        temperature=1,\n",
    "                        output_dimension=3,\n",
    "                        max_iterations=max_iterations,\n",
    "                        distance='cosine',\n",
    "                        conditional='time_delta',\n",
    "                        device='cuda_if_available',\n",
    "                        verbose=True,\n",
    "                        time_offsets=10,\n",
    "                        hybrid = True) # NOTE the new variable to make it hybrid\n",
    "\n",
    "# Hint: run it as the version with behavior labels\n",
    "cebra_hybrid_model.fit(...l, ...)\n",
    "cebra_hybrid = cebra_hybrid_model.transform(...)"
   ]
  },
  {
   "cell_type": "markdown",
   "id": "705039c4-997a-456c-a1b7-0a28c5b17ddc",
   "metadata": {},
   "source": [
    "## Task: Visualize the embeddings from CEBRA-Behavior, CEBRA-Time and CEBRA-Hybrid"
   ]
  },
  {
   "cell_type": "code",
   "execution_count": null,
   "id": "65d18b1d-0d97-4c94-ab36-4475016ce9e5",
   "metadata": {},
   "outputs": [],
   "source": [
    "def plot_hippocampus(ax, embedding, label, gray = False, idx_order = (0,1,2)):\n",
    "    r_ind = label[:,1] == 1\n",
    "    l_ind = label[:,2] == 1\n",
    "\n",
    "    if not gray:\n",
    "        r_cmap = 'cool'\n",
    "        l_cmap = 'viridis'\n",
    "        r_c = label[r_ind, 0]\n",
    "        l_c = label[l_ind, 0]\n",
    "    else:\n",
    "        r_cmap = None\n",
    "        l_cmap = None\n",
    "        r_c = 'gray'\n",
    "        l_c = 'gray'\n",
    "\n",
    "    idx1, idx2, idx3 = idx_order\n",
    "    r=ax.scatter(embedding [r_ind,idx1],\n",
    "               embedding [r_ind,idx2],\n",
    "               embedding [r_ind,idx3],\n",
    "               c=r_c,\n",
    "               cmap=r_cmap, s=0.5)\n",
    "    l=ax.scatter(embedding [l_ind,idx1],\n",
    "               embedding [l_ind,idx2],\n",
    "               embedding [l_ind,idx3],\n",
    "               c=l_c,\n",
    "               cmap=l_cmap, s=0.5)\n",
    "\n",
    "    ax.grid(False)\n",
    "    ax.xaxis.pane.fill = False\n",
    "    ax.yaxis.pane.fill = False\n",
    "    ax.zaxis.pane.fill = False\n",
    "    ax.xaxis.pane.set_edgecolor('w')\n",
    "    ax.yaxis.pane.set_edgecolor('w')\n",
    "    ax.zaxis.pane.set_edgecolor('w')\n",
    "\n",
    "    return ax"
   ]
  },
  {
   "cell_type": "code",
   "execution_count": null,
   "id": "07de8467-413c-40e5-8fdb-2becfd843e4c",
   "metadata": {},
   "outputs": [],
   "source": [
    "%matplotlib notebook\n",
    "# Hint: we need 4 subplots\n",
    "# START YOUR CODE BELOW\n",
    "\n",
    "fig = plt.figure(figsize=(10,2))\n",
    "ax1 = plt.subplot(141, projection='3d')\n",
    "...\n",
    "\n",
    "# Hint: use the function created above, plot_hippocampus, which takes the ax and the embedding, i.e. the model you want to plot \n",
    "# against the label you want to use, i.e. the corresponding hippocampus index\n",
    "\n",
    "ax1 = ... \n",
    "\n",
    "ax1.set_title('CEBRA-Behavior')\n",
    "...\n",
    "plt.show()"
   ]
  }
 ],
 "metadata": {
  "kernelspec": {
   "display_name": "Python 3 (ipykernel)",
   "language": "python",
   "name": "python3"
  },
  "language_info": {
   "codemirror_mode": {
    "name": "ipython",
    "version": 3
   },
   "file_extension": ".py",
   "mimetype": "text/x-python",
   "name": "python",
   "nbconvert_exporter": "python",
   "pygments_lexer": "ipython3",
   "version": "3.11.5"
  }
 },
 "nbformat": 4,
 "nbformat_minor": 5
}
